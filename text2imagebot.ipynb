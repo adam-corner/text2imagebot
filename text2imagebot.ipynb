{
  "cells": [
    {
      "cell_type": "markdown",
      "metadata": {
        "id": "a_gzgx6CV8Qp"
      },
      "source": [
        "# Telegram Bot to Run Stable Diffusion on Colab"
      ]
    },
    {
      "cell_type": "markdown",
      "metadata": {
        "id": "tAf59yqOWIu1"
      },
      "source": [
        "Clone the Repository"
      ]
    },
    {
      "cell_type": "code",
      "execution_count": null,
      "metadata": {
        "colab": {
          "base_uri": "https://localhost:8080/"
        },
        "id": "V7JYyXr1TdFg",
        "outputId": "e822c7c5-ea69-4ee7-fdca-baa9ccf7debd"
      },
      "outputs": [],
      "source": [
        "!git clone https://github.com/adam-corner/text2imagebot.git"
      ]
    },
    {
      "cell_type": "markdown",
      "metadata": {
        "id": "4OoGpMxIWMt_"
      },
      "source": [
        "## Install Requirements"
      ]
    },
    {
      "cell_type": "code",
      "execution_count": 6,
      "metadata": {
        "id": "KR_o1WdXT39N"
      },
      "outputs": [],
      "source": [
        "!pip install -r /content/text2imagebot/requirements.txt -qU"
      ]
    },
    {
      "cell_type": "markdown",
      "metadata": {
        "id": "npEPFPvOWRta"
      },
      "source": [
        "## Add Your bot token from Botfather, api_id and api_token from api.telegram.com"
      ]
    },
    {
      "cell_type": "code",
      "execution_count": 10,
      "metadata": {
        "id": "brmYz-coUCXH"
      },
      "outputs": [],
      "source": [
        "BOT_TOKEN = 'TOKEN'\n",
        "API_ID = 'API_ID'\n",
        "API_HASH = 'API_HASH'\n",
        "DEFAULT_MODEL='' # Pick any model from huggingface that support StableDiffusionPipeline\n",
        "MODELS=[] # List of Models that are not included in models.py"
      ]
    },
    {
      "cell_type": "markdown",
      "metadata": {
        "id": "JobUEs7sWb0O"
      },
      "source": [
        "## Create .env file"
      ]
    },
    {
      "cell_type": "code",
      "execution_count": 11,
      "metadata": {
        "id": "jjpWlfnVUsxl"
      },
      "outputs": [],
      "source": [
        "with open('.env', 'w') as f:\n",
        "    f.write(f\"BOT_TOKEN={BOT_TOKEN}\\n\")\n",
        "    f.write(f\"API_ID={API_ID}\\n\")\n",
        "    f.write(f\"API_HASH={API_HASH}\\n\")"
      ]
    },
    {
      "cell_type": "markdown",
      "metadata": {
        "id": "DZyY6pV_WjH6"
      },
      "source": [
        "# Run Bot and start Using your bot"
      ]
    },
    {
      "cell_type": "code",
      "execution_count": null,
      "metadata": {
        "colab": {
          "base_uri": "https://localhost:8080/"
        },
        "id": "Rc6QaF_DVAdC",
        "outputId": "fc224729-4c3d-44de-b24c-15d9f6b8231a"
      },
      "outputs": [],
      "source": [
        "!python3 /content/text2imagebot/main.py"
      ]
    }
  ],
  "metadata": {
    "accelerator": "GPU",
    "colab": {
      "gpuType": "T4",
      "provenance": []
    },
    "kernelspec": {
      "display_name": "Python 3",
      "name": "python3"
    },
    "language_info": {
      "name": "python"
    }
  },
  "nbformat": 4,
  "nbformat_minor": 0
}
